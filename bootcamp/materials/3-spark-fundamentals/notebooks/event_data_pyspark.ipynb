{
 "cells": [
  {
   "cell_type": "code",
   "execution_count": null,
<<<<<<< HEAD
   "id": "0bdf9126-8708-448b-9928-8eaf0619ec37",
   "metadata": {},
   "outputs": [],
=======
   "id": "81cca085-dba2-42eb-a13b-fa64b6e86583",
   "metadata": {},
   "outputs": [
    {
     "name": "stderr",
     "output_type": "stream",
     "text": [
      "24/12/11 15:50:40 WARN SparkSession: Using an existing Spark session; only runtime SQL configurations will take effect.\n"
     ]
    },
    {
     "name": "stdout",
     "output_type": "stream",
     "text": [
      "+-----------+----------+--------+--------------------+----------+--------------------+-------------------+\n",
      "|    user_id| device_id|referrer|                host|       url|          event_time|         event_date|\n",
      "+-----------+----------+--------+--------------------+----------+--------------------+-------------------+\n",
      "| 1037710827| 532630305|    NULL| www.zachwilson.tech|         /|2021-03-08 17:27:...|2021-03-08 00:00:00|\n",
      "|  925588856| 532630305|    NULL|    www.eczachly.com|         /|2021-05-10 11:26:...|2021-05-10 00:00:00|\n",
      "|-1180485268| 532630305|    NULL|admin.zachwilson....|         /|2021-02-17 16:19:...|2021-02-17 00:00:00|\n",
      "|-1044833855| 532630305|    NULL| www.zachwilson.tech|         /|2021-09-24 15:53:...|2021-09-24 00:00:00|\n",
      "|  747494706| 532630305|    NULL| www.zachwilson.tech|         /|2021-09-26 16:03:...|2021-09-26 00:00:00|\n",
      "|  747494706| 532630305|    NULL|admin.zachwilson....|         /|2021-02-21 16:08:...|2021-02-21 00:00:00|\n",
      "| -824540328| 532630305|    NULL|admin.zachwilson....|         /|2021-09-28 17:23:...|2021-09-28 00:00:00|\n",
      "| -824540328| 532630305|    NULL|    www.eczachly.com|         /|2021-09-29 01:22:...|2021-09-29 00:00:00|\n",
      "| 1833036683| 532630305|    NULL|admin.zachwilson....|         /|2021-01-24 03:15:...|2021-01-24 00:00:00|\n",
      "|-2134824313| 532630305|    NULL|    www.eczachly.com|         /|2021-01-25 00:03:...|2021-01-25 00:00:00|\n",
      "|-1809929467|-906264142|    NULL|admin.zachwilson....|/.git/HEAD|2021-02-22 01:36:...|2021-02-22 00:00:00|\n",
      "| 2002285749|-906264142|    NULL|    www.eczachly.com|         /|2021-02-22 02:25:...|2021-02-22 00:00:00|\n",
      "|-1562965412| 532630305|    NULL| www.zachwilson.tech|         /|2021-01-30 20:46:...|2021-01-30 00:00:00|\n",
      "|-1099860451| 532630305|    NULL|    www.eczachly.com|         /|2021-02-04 23:49:...|2021-02-04 00:00:00|\n",
      "| 1246896869|-906264142|    NULL| www.zachwilson.tech|         /|2021-02-22 02:50:...|2021-02-22 00:00:00|\n",
      "| -629331502|-906264142|    NULL|admin.zachwilson....|/.git/HEAD|2021-02-22 23:51:...|2021-02-22 00:00:00|\n",
      "|-1913422462|-906264142|    NULL|    www.eczachly.com|         /|2021-02-23 00:17:...|2021-02-23 00:00:00|\n",
      "|   50429624| 532630305|    NULL|    www.eczachly.com|         /|2022-12-28 01:38:...|2022-12-28 00:00:00|\n",
      "|  222389292| 532630305|    NULL| www.zachwilson.tech|         /|2022-12-28 05:23:...|2022-12-28 00:00:00|\n",
      "| -779924777| 532630305|    NULL| www.zachwilson.tech|         /|2022-12-28 16:45:...|2022-12-28 00:00:00|\n",
      "+-----------+----------+--------+--------------------+----------+--------------------+-------------------+\n",
      "only showing top 20 rows\n",
      "\n"
     ]
    }
   ],
>>>>>>> cf83b60123e639bc6977182a9947927dfffbf419
   "source": [
    "from pyspark.sql import SparkSession\n",
    "from pyspark.sql.functions import expr, col\n",
    "spark = SparkSession.builder.appName(\"Jupyter\").getOrCreate()\n",
    "\n",
    "spark\n",
    "# Disable automatic broadcast joins\n",
    "spark.conf.set(\"spark.sql.autoBroadcastJoinThreshold\", \"-1\")\n",
    "\n",
<<<<<<< HEAD
=======
    "events = spark.read.option(\"header\", \"true\").csv(\"/home/iceberg/data/events.csv\").withColumn(\"event_date\", expr(\"DATE_TRUNC('day', event_time)\"))\n",
    "devices = spark.read.option(\"header\",\"true\").csv(\"/home/iceberg/data/devices.csv\")\n",
    "\n",
    "df = events.join(devices,on=\"device_id\",how=\"left\")\n",
    "df = df.withColumnsRenamed({'browser_type': 'browser_family', 'os_type': 'os_family'})\n",
>>>>>>> cf83b60123e639bc6977182a9947927dfffbf419
    "\n",
    "match_details = spark.read.csv(\"/home/iceberg/data/match_details.csv\", header=True, inferSchema=True)\n",
    "matches = spark.read.csv(\"/home/iceberg/data/matches.csv\", header=True, inferSchema=True)\n",
    "medals_matches_players = spark.read.csv(\"/home/iceberg/data/medals_matches_players.csv\", header=True, inferSchema=True)\n",
    "medals = spark.read.csv(\"/home/iceberg/data/medals.csv\", header=True, inferSchema=True)\n",
    "maps = spark.read.csv(\"/home/iceberg/data/maps.csv\", header=True, inferSchema=True)\n",
    "\n",
    "maps.show()"
   ]
  },
  {
   "cell_type": "code",
<<<<<<< HEAD
   "execution_count": 45,
   "id": "58867b4f-1ecb-4ed2-ace3-81d3182bce63",
=======
   "execution_count": 5,
   "id": "dce068df-3e21-429a-8716-abdd13e9406c",
>>>>>>> cf83b60123e639bc6977182a9947927dfffbf419
   "metadata": {},
   "outputs": [
    {
     "name": "stdout",
     "output_type": "stream",
     "text": [
<<<<<<< HEAD
      "+--------------------+--------------------+------------+--------------------+--------------------+-------------+-------------------+--------------+---------+--------------------+--------------+--------------------+\n",
      "|               mapid|            match_id|is_team_game|         playlist_id|     game_variant_id|is_match_over|    completion_date|match_duration|game_mode|      map_variant_id|          name|         description|\n",
      "+--------------------+--------------------+------------+--------------------+--------------------+-------------+-------------------+--------------+---------+--------------------+--------------+--------------------+\n",
      "|c7edbf0f-f206-11e...|11de1a94-8d07-416...|        true|f72e0ef0-7c4a-430...|1e473914-46e4-408...|         true|2016-02-22 00:00:00|          NULL|     NULL|                NULL|Breakout Arena|The broadcast of ...|\n",
      "|cb914b9e-f206-11e...|d3643e71-3e51-43e...|       false|d0766624-dbd7-453...|257a305e-4dd3-41f...|         true|2016-02-14 00:00:00|          NULL|     NULL|                NULL|       The Rig|Humanity’s raveno...|\n",
      "|c7edbf0f-f206-11e...|d78d2aae-36e4-48a...|        true|f72e0ef0-7c4a-430...|1e473914-46e4-408...|         true|2016-03-24 00:00:00|          NULL|     NULL|55e5ee2e-88df-465...|Breakout Arena|The broadcast of ...|\n",
      "|c7edbf0f-f206-11e...|b440069e-ec5f-4f5...|        true|f72e0ef0-7c4a-430...|1e473914-46e4-408...|         true|2015-12-23 00:00:00|          NULL|     NULL|ec3eef73-13e3-4d4...|Breakout Arena|The broadcast of ...|\n",
      "|c93d708f-f206-11e...|1dd475fc-ee6b-4e1...|        true|0e39ead4-383b-445...|42f97cca-2cb4-497...|         true|2016-04-07 00:00:00|          NULL|     NULL|                NULL|         Urban|Andesia was the c...|\n",
      "|cbcea2c0-f206-11e...|848f02ad-72ef-479...|        true|2323b76a-db98-4e0...|257a305e-4dd3-41f...|         true|2016-03-17 00:00:00|          NULL|     NULL|                NULL|      Riptide |The waters of thi...|\n",
      "|cc74f4e1-f206-11e...|e207adc1-4d7a-43a...|        true|2323b76a-db98-4e0...|257a305e-4dd3-41f...|         true|2016-04-05 00:00:00|          NULL|     NULL|                NULL|          NULL|                NULL|\n",
      "|ca737f8f-f206-11e...|1fb5c2ec-ca60-434...|        true|bc0f8ad6-31e6-4a1...|257a305e-4dd3-41f...|         true|2015-12-16 00:00:00|          NULL|     NULL|                NULL|    Overgrowth|Nature has reclai...|\n",
      "|cbcea2c0-f206-11e...|54f1cbd2-2be6-4d5...|        NULL|892189e9-d712-4bd...|257a305e-4dd3-41f...|         NULL|2016-02-04 00:00:00|          NULL|     NULL|7108c409-6d1e-41d...|      Riptide |The waters of thi...|\n",
      "|c74c9d0f-f206-11e...|9e079488-1355-4c6...|        true|0bcf2be1-3168-4e4...|b45854a7-e6e1-4a9...|         true|2015-11-22 00:00:00|          NULL|     NULL|1c632c30-3994-444...|        Alpine|These vistas are ...|\n",
      "|cbcea2c0-f206-11e...|e17af58c-ee3d-4a7...|        NULL|2323b76a-db98-4e0...|257a305e-4dd3-41f...|         NULL|2016-02-04 00:00:00|          NULL|     NULL|7108c409-6d1e-41d...|      Riptide |The waters of thi...|\n",
      "|ca737f8f-f206-11e...|22027c64-d45a-48a...|        NULL|d0766624-dbd7-453...|257a305e-4dd3-41f...|         NULL|2016-02-04 00:00:00|          NULL|     NULL|1ebdebca-e1f8-48f...|    Overgrowth|Nature has reclai...|\n",
      "|c7805740-f206-11e...|8483565b-14d1-460...|        NULL|f72e0ef0-7c4a-430...|1e473914-46e4-408...|         NULL|2016-02-04 00:00:00|          NULL|     NULL|b5f6104e-3a99-438...|       Glacier|Each of Halo's mi...|\n",
      "|c7edbf0f-f206-11e...|bc8f0d7a-cf4b-4a2...|        NULL|f72e0ef0-7c4a-430...|1e473914-46e4-408...|         NULL|2016-02-04 00:00:00|          NULL|     NULL|7248ebbd-cd40-456...|Breakout Arena|The broadcast of ...|\n",
      "|cdb934b0-f206-11e...|f60f9d91-42c9-4a0...|        NULL|f72e0ef0-7c4a-430...|1e473914-46e4-408...|         NULL|2016-02-04 00:00:00|          NULL|     NULL|                NULL|        Empire|Military-industri...|\n",
      "|c7edbf0f-f206-11e...|ad4a5b9d-7127-404...|        true|f72e0ef0-7c4a-430...|1e473914-46e4-408...|         true|2016-02-13 00:00:00|          NULL|     NULL|d591e5ba-a0db-4bf...|Breakout Arena|The broadcast of ...|\n",
      "|ce1dc2de-f206-11e...|f44c9997-eb6f-4d6...|        true|0504ca3c-de41-48f...|b0df8938-0fb6-42e...|         true|2016-02-28 00:00:00|          NULL|     NULL|d5a6277a-96d5-499...|         Truth|                NULL|\n",
      "|cdb934b0-f206-11e...|5d8c7557-5347-451...|        NULL|d0766624-dbd7-453...|257a305e-4dd3-41f...|         NULL|2016-02-04 00:00:00|          NULL|     NULL|                NULL|        Empire|Military-industri...|\n",
      "|cdb934b0-f206-11e...|89b24a08-8588-464...|        NULL|d0766624-dbd7-453...|257a305e-4dd3-41f...|         NULL|2016-02-04 00:00:00|          NULL|     NULL|                NULL|        Empire|Military-industri...|\n",
      "|cdb934b0-f206-11e...|01805fa5-bd7c-462...|        NULL|f72e0ef0-7c4a-430...|1e473914-46e4-408...|         NULL|2016-02-04 00:00:00|          NULL|     NULL|                NULL|        Empire|Military-industri...|\n",
      "+--------------------+--------------------+------------+--------------------+--------------------+-------------+-------------------+--------------+---------+--------------------+--------------+--------------------+\n",
      "only showing top 20 rows\n",
      "\n",
      "+--------------------+--------------------+------------+--------------------+--------------------+-------------+-------------------+--------------+---------+--------------------+--------------+--------------------+\n",
      "|               mapid|            match_id|is_team_game|         playlist_id|     game_variant_id|is_match_over|    completion_date|match_duration|game_mode|      map_variant_id|          name|         description|\n",
      "+--------------------+--------------------+------------+--------------------+--------------------+-------------+-------------------+--------------+---------+--------------------+--------------+--------------------+\n",
      "|c7edbf0f-f206-11e...|11de1a94-8d07-416...|        true|f72e0ef0-7c4a-430...|1e473914-46e4-408...|         true|2016-02-22 00:00:00|          NULL|     NULL|                NULL|Breakout Arena|The broadcast of ...|\n",
      "|cb914b9e-f206-11e...|d3643e71-3e51-43e...|       false|d0766624-dbd7-453...|257a305e-4dd3-41f...|         true|2016-02-14 00:00:00|          NULL|     NULL|                NULL|       The Rig|Humanity’s raveno...|\n",
      "|c7edbf0f-f206-11e...|d78d2aae-36e4-48a...|        true|f72e0ef0-7c4a-430...|1e473914-46e4-408...|         true|2016-03-24 00:00:00|          NULL|     NULL|55e5ee2e-88df-465...|Breakout Arena|The broadcast of ...|\n",
      "|c7edbf0f-f206-11e...|b440069e-ec5f-4f5...|        true|f72e0ef0-7c4a-430...|1e473914-46e4-408...|         true|2015-12-23 00:00:00|          NULL|     NULL|ec3eef73-13e3-4d4...|Breakout Arena|The broadcast of ...|\n",
      "|c93d708f-f206-11e...|1dd475fc-ee6b-4e1...|        true|0e39ead4-383b-445...|42f97cca-2cb4-497...|         true|2016-04-07 00:00:00|          NULL|     NULL|                NULL|         Urban|Andesia was the c...|\n",
      "|cbcea2c0-f206-11e...|848f02ad-72ef-479...|        true|2323b76a-db98-4e0...|257a305e-4dd3-41f...|         true|2016-03-17 00:00:00|          NULL|     NULL|                NULL|      Riptide |The waters of thi...|\n",
      "|cc74f4e1-f206-11e...|e207adc1-4d7a-43a...|        true|2323b76a-db98-4e0...|257a305e-4dd3-41f...|         true|2016-04-05 00:00:00|          NULL|     NULL|                NULL|          NULL|                NULL|\n",
      "|ca737f8f-f206-11e...|1fb5c2ec-ca60-434...|        true|bc0f8ad6-31e6-4a1...|257a305e-4dd3-41f...|         true|2015-12-16 00:00:00|          NULL|     NULL|                NULL|    Overgrowth|Nature has reclai...|\n",
      "|cbcea2c0-f206-11e...|54f1cbd2-2be6-4d5...|        NULL|892189e9-d712-4bd...|257a305e-4dd3-41f...|         NULL|2016-02-04 00:00:00|          NULL|     NULL|7108c409-6d1e-41d...|      Riptide |The waters of thi...|\n",
      "|c74c9d0f-f206-11e...|9e079488-1355-4c6...|        true|0bcf2be1-3168-4e4...|b45854a7-e6e1-4a9...|         true|2015-11-22 00:00:00|          NULL|     NULL|1c632c30-3994-444...|        Alpine|These vistas are ...|\n",
      "|cbcea2c0-f206-11e...|e17af58c-ee3d-4a7...|        NULL|2323b76a-db98-4e0...|257a305e-4dd3-41f...|         NULL|2016-02-04 00:00:00|          NULL|     NULL|7108c409-6d1e-41d...|      Riptide |The waters of thi...|\n",
      "|ca737f8f-f206-11e...|22027c64-d45a-48a...|        NULL|d0766624-dbd7-453...|257a305e-4dd3-41f...|         NULL|2016-02-04 00:00:00|          NULL|     NULL|1ebdebca-e1f8-48f...|    Overgrowth|Nature has reclai...|\n",
      "|c7805740-f206-11e...|8483565b-14d1-460...|        NULL|f72e0ef0-7c4a-430...|1e473914-46e4-408...|         NULL|2016-02-04 00:00:00|          NULL|     NULL|b5f6104e-3a99-438...|       Glacier|Each of Halo's mi...|\n",
      "|c7edbf0f-f206-11e...|bc8f0d7a-cf4b-4a2...|        NULL|f72e0ef0-7c4a-430...|1e473914-46e4-408...|         NULL|2016-02-04 00:00:00|          NULL|     NULL|7248ebbd-cd40-456...|Breakout Arena|The broadcast of ...|\n",
      "|cdb934b0-f206-11e...|f60f9d91-42c9-4a0...|        NULL|f72e0ef0-7c4a-430...|1e473914-46e4-408...|         NULL|2016-02-04 00:00:00|          NULL|     NULL|                NULL|        Empire|Military-industri...|\n",
      "|c7edbf0f-f206-11e...|ad4a5b9d-7127-404...|        true|f72e0ef0-7c4a-430...|1e473914-46e4-408...|         true|2016-02-13 00:00:00|          NULL|     NULL|d591e5ba-a0db-4bf...|Breakout Arena|The broadcast of ...|\n",
      "|ce1dc2de-f206-11e...|f44c9997-eb6f-4d6...|        true|0504ca3c-de41-48f...|b0df8938-0fb6-42e...|         true|2016-02-28 00:00:00|          NULL|     NULL|d5a6277a-96d5-499...|         Truth|                NULL|\n",
      "|cdb934b0-f206-11e...|5d8c7557-5347-451...|        NULL|d0766624-dbd7-453...|257a305e-4dd3-41f...|         NULL|2016-02-04 00:00:00|          NULL|     NULL|                NULL|        Empire|Military-industri...|\n",
      "|cdb934b0-f206-11e...|89b24a08-8588-464...|        NULL|d0766624-dbd7-453...|257a305e-4dd3-41f...|         NULL|2016-02-04 00:00:00|          NULL|     NULL|                NULL|        Empire|Military-industri...|\n",
      "|cdb934b0-f206-11e...|01805fa5-bd7c-462...|        NULL|f72e0ef0-7c4a-430...|1e473914-46e4-408...|         NULL|2016-02-04 00:00:00|          NULL|     NULL|                NULL|        Empire|Military-industri...|\n",
      "+--------------------+--------------------+------------+--------------------+--------------------+-------------+-------------------+--------------+---------+--------------------+--------------+--------------------+\n",
=======
      "+-----------+-----------+--------------------+--------------------+--------------------+--------------------+-------------------+\n",
      "|    user_id|  device_id|            referrer|                host|                 url|          event_time|         event_date|\n",
      "+-----------+-----------+--------------------+--------------------+--------------------+--------------------+-------------------+\n",
      "| 1129583063|  532630305|                NULL|admin.zachwilson....|                   /|2021-01-07 09:21:...|2021-01-07 00:00:00|\n",
      "| -648945006| 1088283544|                NULL|    www.eczachly.com|                   /|2021-01-07 02:58:...|2021-01-07 00:00:00|\n",
      "|-1871780024| -158310583|                NULL|    www.eczachly.com|                   /|2021-01-07 04:17:...|2021-01-07 00:00:00|\n",
      "|  203689086| 1088283544|                NULL|    www.eczachly.com|/blog/what-exactl...|2021-01-07 10:03:...|2021-01-07 00:00:00|\n",
      "|-1180485268|  532630305|                NULL|    www.eczachly.com|                   /|2021-01-07 18:45:...|2021-01-07 00:00:00|\n",
      "| 1129583063|  532630305|                NULL|    www.eczachly.com|                   /|2021-01-07 21:57:...|2021-01-07 00:00:00|\n",
      "|-1381834161| -158310583|                NULL|    www.eczachly.com|                   /|2021-01-07 23:07:...|2021-01-07 00:00:00|\n",
      "|-1373330946|  532630305|                NULL| www.zachwilson.tech|  /api/v1/spark-post|2021-01-07 18:53:...|2021-01-07 00:00:00|\n",
      "|-1180485268|  532630305|                NULL| www.zachwilson.tech|                   /|2021-01-07 19:20:...|2021-01-07 00:00:00|\n",
      "|-1617088793| 1957784035|https://www.zachw...| www.zachwilson.tech|            /contact|2021-01-07 00:19:...|2021-01-07 00:00:00|\n",
      "|-1617088793| 1957784035|https://www.zachw...| www.zachwilson.tech|     /api/v1/contact|2021-01-07 00:19:...|2021-01-07 00:00:00|\n",
      "|-1617088793| 1957784035|https://www.zachw...| www.zachwilson.tech|            /contact|2021-01-07 00:19:...|2021-01-07 00:00:00|\n",
      "| -267976675| 1141939293|https://www.zachw...| www.zachwilson.tech|            /contact|2021-01-07 01:57:...|2021-01-07 00:00:00|\n",
      "| -267976675| 1141939293|https://www.zachw...| www.zachwilson.tech|     /api/v1/contact|2021-01-07 01:57:...|2021-01-07 00:00:00|\n",
      "| -267976675| 1141939293|https://www.zachw...| www.zachwilson.tech|            /contact|2021-01-07 01:57:...|2021-01-07 00:00:00|\n",
      "|  604069040| 1800580819|                NULL| www.zachwilson.tech|                   /|2021-01-07 02:24:...|2021-01-07 00:00:00|\n",
      "|-2135898320| 2066336516|http://www.laurel...| www.zachwilson.tech|                   /|2021-01-07 04:57:...|2021-01-07 00:00:00|\n",
      "|  -43429336|-1217993711|                NULL| www.zachwilson.tech|            /contact|2021-01-07 04:57:...|2021-01-07 00:00:00|\n",
      "| 1198758947|-1307168836|                NULL| www.zachwilson.tech|               /blog|2021-01-07 09:57:...|2021-01-07 00:00:00|\n",
      "|-1894709267| 1141939293|https://www.zachw...| www.zachwilson.tech|                   /|2021-01-07 10:12:...|2021-01-07 00:00:00|\n",
      "+-----------+-----------+--------------------+--------------------+--------------------+--------------------+-------------------+\n",
      "only showing top 20 rows\n",
      "\n",
      "+-----------+-----------+--------------------+--------------------+--------------------+--------------------+-------------------+\n",
      "|    user_id|  device_id|            referrer|                host|                 url|          event_time|         event_date|\n",
      "+-----------+-----------+--------------------+--------------------+--------------------+--------------------+-------------------+\n",
      "| 1272828233| -643696601|                NULL|admin.zachwilson....|                   /|2021-01-02 13:53:...|2021-01-02 00:00:00|\n",
      "|  747494706|  532630305|                NULL|admin.zachwilson....|                   /|2021-01-02 19:36:...|2021-01-02 00:00:00|\n",
      "| 2110046626|  898871897|                NULL|admin.zachwilson....|       /wp-login.php|2021-01-02 19:57:...|2021-01-02 00:00:00|\n",
      "| 1272828233| -643696601|                NULL|admin.zachwilson....|                   /|2021-01-02 21:05:...|2021-01-02 00:00:00|\n",
      "| 1272828233| -643696601|                NULL|admin.zachwilson....|                   /|2021-01-02 21:37:...|2021-01-02 00:00:00|\n",
      "| 1399665425|-2012543895|                NULL|    www.eczachly.com|                   /|2021-01-02 00:20:...|2021-01-02 00:00:00|\n",
      "|  125243313| -290659081|                NULL|    www.eczachly.com|                   /|2021-01-02 02:06:...|2021-01-02 00:00:00|\n",
      "|  632739597| -290659081|                NULL|    www.eczachly.com|/blog/what-exactl...|2021-01-02 02:58:...|2021-01-02 00:00:00|\n",
      "|-1780827820| -290659081|                NULL|    www.eczachly.com|                   /|2021-01-02 04:45:...|2021-01-02 00:00:00|\n",
      "|  632739597| -290659081|                NULL|    www.eczachly.com|                   /|2021-01-02 05:14:...|2021-01-02 00:00:00|\n",
      "| 1047962242| -158310583|                NULL|    www.eczachly.com|                   /|2021-01-02 11:40:...|2021-01-02 00:00:00|\n",
      "|  273700037| -290659081|                NULL|    www.eczachly.com|                   /|2021-01-02 07:51:...|2021-01-02 00:00:00|\n",
      "| 1272828233| -643696601|                NULL|    www.eczachly.com|                   /|2021-01-02 08:14:...|2021-01-02 00:00:00|\n",
      "|  210988258| 1088283544|                NULL|    www.eczachly.com|            /contact|2021-01-02 11:11:...|2021-01-02 00:00:00|\n",
      "|  273700037| -290659081|                NULL|    www.eczachly.com|                   /|2021-01-02 11:23:...|2021-01-02 00:00:00|\n",
      "|  632739597| -290659081|                NULL|    www.eczachly.com|        /sitemap.xml|2021-01-02 14:10:...|2021-01-02 00:00:00|\n",
      "|  659201289| -290659081|                NULL|    www.eczachly.com|/blog/life-of-a-s...|2021-01-02 15:53:...|2021-01-02 00:00:00|\n",
      "| 1072106763| -784483831|https://www.zachw...| www.zachwilson.tech|            /contact|2021-01-02 09:37:...|2021-01-02 00:00:00|\n",
      "| 1744817842| -223216734|                NULL| www.zachwilson.tech|/graph/stock-tick...|2021-01-02 00:23:...|2021-01-02 00:00:00|\n",
      "| 1445055201| 1957784035|https://www.zachw...| www.zachwilson.tech|            /contact|2021-01-02 10:17:...|2021-01-02 00:00:00|\n",
      "+-----------+-----------+--------------------+--------------------+--------------------+--------------------+-------------------+\n",
>>>>>>> cf83b60123e639bc6977182a9947927dfffbf419
      "only showing top 20 rows\n",
      "\n"
     ]
    }
   ],
   "source": [
<<<<<<< HEAD
    "from pyspark.sql.functions import broadcast\n",
    "\n",
    "# Broadcast join\n",
    "\n",
    "matches_maps_df = matches.join(broadcast(maps),\"mapid\")\n",
    "\n",
    "matches_maps_df.show()\n",
    "\n",
    "medals_matches_players_df = medals_matches_players.join(broadcast(medals),\"medal_id\")\n",
    "\n",
    "matches_maps_df.show()"
=======
    "sorted = df.repartition(10, col(\"event_date\"))\\\n",
    "    .sortWithinPartitions(col(\"event_date\"), col(\"host\"))\\\n",
    "    .withColumn(\"event_time\", col(\"event_time\").cast(\"timestamp\")) \n",
    "\n",
    "sortedTwo = df.repartition(10, col(\"event_date\"))\\\n",
    "    .sort(col(\"event_date\"), col(\"host\"))\\\n",
    "    .withColumn(\"event_time\", col(\"event_time\").cast(\"timestamp\")) \n",
    "\n",
    "sorted.show()\n",
    "sortedTwo.show()\n"
>>>>>>> cf83b60123e639bc6977182a9947927dfffbf419
   ]
  },
  {
   "cell_type": "code",
<<<<<<< HEAD
   "execution_count": 46,
   "id": "33e4dce2-cba1-4bd7-808a-4cec76e45003",
=======
   "execution_count": null,
   "id": "e75099ce-0e80-4903-8d3e-e4842a9a99f7",
   "metadata": {},
   "outputs": [],
   "source": [
    "# .sortWithinPartitions() sorts within partitions, whereas .sort() is a global sort, which is very slow\n",
    "\n",
    "# Note - exchange is synonymous with Shuffle"
   ]
  },
  {
   "cell_type": "code",
   "execution_count": 6,
   "id": "5cc0bb63-2ef0-4a53-af25-881fbd785d55",
   "metadata": {},
   "outputs": [
    {
     "name": "stdout",
     "output_type": "stream",
     "text": [
      "== Physical Plan ==\n",
      "AdaptiveSparkPlan isFinalPlan=false\n",
      "+- Project [user_id#17, device_id#18, referrer#19, host#20, url#21, cast(event_time#22 as timestamp) AS event_time#288, event_date#29]\n",
      "   +- Sort [event_date#29 ASC NULLS FIRST, host#20 ASC NULLS FIRST], false, 0\n",
      "      +- Exchange hashpartitioning(event_date#29, 10), REPARTITION_BY_NUM, [plan_id=294]\n",
      "         +- Project [user_id#17, device_id#18, referrer#19, host#20, url#21, event_time#22, date_trunc(day, cast(event_time#22 as timestamp), Some(Etc/UTC)) AS event_date#29]\n",
      "            +- FileScan csv [user_id#17,device_id#18,referrer#19,host#20,url#21,event_time#22] Batched: false, DataFilters: [], Format: CSV, Location: InMemoryFileIndex(1 paths)[file:/home/iceberg/data/events.csv], PartitionFilters: [], PushedFilters: [], ReadSchema: struct<user_id:string,device_id:string,referrer:string,host:string,url:string,event_time:string>\n",
      "\n",
      "\n",
      "== Physical Plan ==\n",
      "AdaptiveSparkPlan isFinalPlan=false\n",
      "+- Project [user_id#17, device_id#18, referrer#19, host#20, url#21, cast(event_time#22 as timestamp) AS event_time#296, event_date#29]\n",
      "   +- Sort [event_date#29 ASC NULLS FIRST, host#20 ASC NULLS FIRST], true, 0\n",
      "      +- Exchange rangepartitioning(event_date#29 ASC NULLS FIRST, host#20 ASC NULLS FIRST, 200), ENSURE_REQUIREMENTS, [plan_id=316]\n",
      "         +- Exchange hashpartitioning(event_date#29, 10), REPARTITION_BY_NUM, [plan_id=312]\n",
      "            +- Project [user_id#17, device_id#18, referrer#19, host#20, url#21, event_time#22, date_trunc(day, cast(event_time#22 as timestamp), Some(Etc/UTC)) AS event_date#29]\n",
      "               +- FileScan csv [user_id#17,device_id#18,referrer#19,host#20,url#21,event_time#22] Batched: false, DataFilters: [], Format: CSV, Location: InMemoryFileIndex(1 paths)[file:/home/iceberg/data/events.csv], PartitionFilters: [], PushedFilters: [], ReadSchema: struct<user_id:string,device_id:string,referrer:string,host:string,url:string,event_time:string>\n",
      "\n",
      "\n"
     ]
    }
   ],
   "source": [
    "sorted = df.repartition(10, col(\"event_date\"))\\\n",
    "    .sortWithinPartitions(col(\"event_date\"), col(\"host\"))\\\n",
    "    .withColumn(\"event_time\", col(\"event_time\").cast(\"timestamp\")) \n",
    "\n",
    "sortedTwo = df.repartition(10, col(\"event_date\"))\\\n",
    "    .sort(col(\"event_date\"), col(\"host\"))\\\n",
    "    .withColumn(\"event_time\", col(\"event_time\").cast(\"timestamp\")) \n",
    "\n",
    "sorted.explain()\n",
    "sortedTwo.explain()"
   ]
  },
  {
   "cell_type": "code",
   "execution_count": 7,
   "id": "d800dca7-2737-4192-b5c0-c1806c105e15",
   "metadata": {},
   "outputs": [
    {
     "data": {
      "text/html": [
       "<table>\n",
       "    <thead>\n",
       "        <tr>\n",
       "        </tr>\n",
       "    </thead>\n",
       "    <tbody>\n",
       "    </tbody>\n",
       "</table>"
      ],
      "text/plain": [
       "++\n",
       "||\n",
       "++\n",
       "++"
      ]
     },
     "execution_count": 7,
     "metadata": {},
     "output_type": "execute_result"
    }
   ],
   "source": [
    "%%sql\n",
    "\n",
    "CREATE DATABASE IF NOT EXISTS bootcamp"
   ]
  },
  {
   "cell_type": "code",
   "execution_count": 20,
   "id": "e83cd813-d5c0-4d67-8285-849b882b8bfa",
   "metadata": {},
   "outputs": [
    {
     "data": {
      "text/html": [
       "<table>\n",
       "    <thead>\n",
       "        <tr>\n",
       "        </tr>\n",
       "    </thead>\n",
       "    <tbody>\n",
       "    </tbody>\n",
       "</table>"
      ],
      "text/plain": [
       "++\n",
       "||\n",
       "++\n",
       "++"
      ]
     },
     "execution_count": 20,
     "metadata": {},
     "output_type": "execute_result"
    }
   ],
   "source": [
    "%%sql\n",
    "\n",
    "DROP TABLE IF EXISTS bootcamp.events"
   ]
  },
  {
   "cell_type": "code",
   "execution_count": 21,
   "id": "b403139c-f342-426a-a6de-81cd86d1cd73",
   "metadata": {},
   "outputs": [
    {
     "data": {
      "text/html": [
       "<table>\n",
       "    <thead>\n",
       "        <tr>\n",
       "        </tr>\n",
       "    </thead>\n",
       "    <tbody>\n",
       "    </tbody>\n",
       "</table>"
      ],
      "text/plain": [
       "++\n",
       "||\n",
       "++\n",
       "++"
      ]
     },
     "execution_count": 21,
     "metadata": {},
     "output_type": "execute_result"
    }
   ],
   "source": [
    "%%sql\n",
    "\n",
    "DROP TABLE IF EXISTS bootcamp.events_sorted"
   ]
  },
  {
   "cell_type": "code",
   "execution_count": 22,
   "id": "d1b197a9-1b63-4130-acbe-01418eede0e5",
   "metadata": {
    "scrolled": true
   },
   "outputs": [
    {
     "data": {
      "text/html": [
       "<table>\n",
       "    <thead>\n",
       "        <tr>\n",
       "        </tr>\n",
       "    </thead>\n",
       "    <tbody>\n",
       "    </tbody>\n",
       "</table>"
      ],
      "text/plain": [
       "++\n",
       "||\n",
       "++\n",
       "++"
      ]
     },
     "execution_count": 22,
     "metadata": {},
     "output_type": "execute_result"
    }
   ],
   "source": [
    "%%sql\n",
    "\n",
    "CREATE TABLE IF NOT EXISTS bootcamp.events (\n",
    "    url STRING,\n",
    "    referrer STRING,\n",
    "    browser_family STRING,\n",
    "    os_family STRING,\n",
    "    device_family STRING,\n",
    "    host STRING,\n",
    "    event_time TIMESTAMP,\n",
    "    event_date DATE\n",
    ")\n",
    "USING iceberg\n",
    "PARTITIONED BY (years(event_date));\n"
   ]
  },
  {
   "cell_type": "code",
   "execution_count": 23,
   "id": "c40b143f-295e-4875-bd7f-12409312b800",
   "metadata": {
    "scrolled": true
   },
   "outputs": [
    {
     "data": {
      "text/html": [
       "<table>\n",
       "    <thead>\n",
       "        <tr>\n",
       "        </tr>\n",
       "    </thead>\n",
       "    <tbody>\n",
       "    </tbody>\n",
       "</table>"
      ],
      "text/plain": [
       "++\n",
       "||\n",
       "++\n",
       "++"
      ]
     },
     "execution_count": 23,
     "metadata": {},
     "output_type": "execute_result"
    }
   ],
   "source": [
    "%%sql\n",
    "\n",
    "\n",
    "CREATE TABLE IF NOT EXISTS bootcamp.events_sorted (\n",
    "    url STRING,\n",
    "    referrer STRING,\n",
    "    browser_family STRING,\n",
    "    os_family STRING,\n",
    "    device_family STRING,\n",
    "    host STRING,\n",
    "    event_time TIMESTAMP,\n",
    "    event_date DATE\n",
    ")\n",
    "USING iceberg\n",
    "PARTITIONED BY (years(event_date));"
   ]
  },
  {
   "cell_type": "code",
   "execution_count": 24,
   "id": "00c86e79-a911-464c-ad58-acc92859dcc6",
   "metadata": {
    "scrolled": true
   },
   "outputs": [
    {
     "data": {
      "text/html": [
       "<table>\n",
       "    <thead>\n",
       "        <tr>\n",
       "        </tr>\n",
       "    </thead>\n",
       "    <tbody>\n",
       "    </tbody>\n",
       "</table>"
      ],
      "text/plain": [
       "++\n",
       "||\n",
       "++\n",
       "++"
      ]
     },
     "execution_count": 24,
     "metadata": {},
     "output_type": "execute_result"
    }
   ],
   "source": [
    "%%sql\n",
    "\n",
    "\n",
    "CREATE TABLE IF NOT EXISTS bootcamp.events_unsorted (\n",
    "    url STRING,\n",
    "    referrer STRING,\n",
    "    browser_family STRING,\n",
    "    os_family STRING,\n",
    "    device_family STRING,\n",
    "    host STRING,\n",
    "    event_time TIMESTAMP,\n",
    "    event_date DATE\n",
    ")\n",
    "USING iceberg\n",
    "PARTITIONED BY (year(event_date));"
   ]
  },
  {
   "cell_type": "code",
   "execution_count": 26,
   "id": "2c1254bc-9ecf-4c86-bfd9-de81ecfbb78b",
>>>>>>> cf83b60123e639bc6977182a9947927dfffbf419
   "metadata": {},
   "outputs": [
    {
     "name": "stderr",
     "output_type": "stream",
     "text": [
      "                                                                                \r"
     ]
    }
   ],
   "source": [
    "# Bucketed join on match_id (16 buckets)\n",
    "match_details.createOrReplaceTempView(\"match_details\")\n",
    "matches.createOrReplaceTempView(\"matches\")\n",
    "medals_matches_players.createOrReplaceTempView(\"medals_matches_players\")\n",
    "\n",
<<<<<<< HEAD
    "# Renaming columns in match_details to avoid ambiguity\n",
    "#match_details_renamed = match_details.withColumnRenamed(\"player_total_kills\", \"match_details_player_total_kills\")\n",
    "\n",
    "# Renaming columns in medals_matches_players to avoid ambiguity\n",
    "#medals_matches_players_renamed = medals_matches_players.withColumnRenamed(\"player_total_kills\", \"medals_matches_player_total_kills\")\n",
    "\n",
    "# Now perform the join with the renamed columns\n",
    "bucketed_data = match_details.join(matches, [\"match_id\"], \"inner\") \\\n",
    "                                     .join(medals_matches_players, [\"match_id\",\"player_gamertag\"], \"inner\") \\\n",
    "                                     .repartition(16, \"match_id\")\n"
=======
    "start_df = df.repartition(4, col(\"event_date\")).withColumn(\"event_time\", col(\"event_time\").cast(\"timestamp\")) \\\n",
    "    \n",
    "first_sort_df = start_df.sortWithinPartitions(col(\"event_date\"), col(\"host\"))\n",
    "\n",
    "start_df.write.mode(\"overwrite\").saveAsTable(\"bootcamp.events_unsorted\")\n",
    "first_sort_df.write.mode(\"overwrite\").saveAsTable(\"bootcamp.events_sorted\")"
>>>>>>> cf83b60123e639bc6977182a9947927dfffbf419
   ]
  },
  {
   "cell_type": "code",
   "execution_count": 47,
   "id": "a50a6e68-e080-48fd-8f72-fb7eb7c3aba5",
   "metadata": {},
   "outputs": [
    {
     "name": "stdout",
     "output_type": "stream",
     "text": [
      "['match_id', 'player_gamertag', 'previous_spartan_rank', 'spartan_rank', 'previous_total_xp', 'total_xp', 'previous_csr_tier', 'previous_csr_designation', 'previous_csr', 'previous_csr_percent_to_next_tier', 'previous_csr_rank', 'current_csr_tier', 'current_csr_designation', 'current_csr', 'current_csr_percent_to_next_tier', 'current_csr_rank', 'player_rank_on_team', 'player_finished', 'player_average_life', 'player_total_kills', 'player_total_headshots', 'player_total_weapon_damage', 'player_total_shots_landed', 'player_total_melee_kills', 'player_total_melee_damage', 'player_total_assassinations', 'player_total_ground_pound_kills', 'player_total_shoulder_bash_kills', 'player_total_grenade_damage', 'player_total_power_weapon_damage', 'player_total_power_weapon_grabs', 'player_total_deaths', 'player_total_assists', 'player_total_grenade_kills', 'did_win', 'team_id', 'mapid', 'is_team_game', 'playlist_id', 'game_variant_id', 'is_match_over', 'completion_date', 'match_duration', 'game_mode', 'map_variant_id', 'medal_id', 'count']\n"
     ]
    }
   ],
   "source": [
    "\n",
    "print(bucketed_data.columns)"
   ]
  },
  {
   "cell_type": "code",
   "execution_count": 52,
   "id": "5083fece-a0bf-486d-bd67-8d580a25ae8f",
   "metadata": {},
   "outputs": [
    {
     "name": "stdout",
     "output_type": "stream",
     "text": [
      "+--------------------+---------------+---------+\n",
      "|            match_id|player_gamertag|avg_kills|\n",
      "+--------------------+---------------+---------+\n",
      "|00114a87-5696-421...|      Amplafied|     14.0|\n",
      "|002d6369-161c-4ec...|       Attack3d|      5.0|\n",
      "|002d6369-161c-4ec...|lX R3CLAIM3R Xl|      8.0|\n",
      "|00fa6004-d709-410...|   HuNTy x BEaR|     12.0|\n",
      "|01b59954-e15c-445...|  Chuck Chill33|      1.0|\n",
      "|01b59954-e15c-445...|globalgoon78901|      1.0|\n",
      "|023907c7-bf2f-4c5...|        Silhana|      9.0|\n",
      "|028a0d83-c936-41f...|    ILLICIT 117|     12.0|\n",
      "|02d4d2c8-7bce-46a...|     NWG StrAfe|     27.0|\n",
      "|035f360e-989b-4ce...|   SpicyWings88|     14.0|\n",
      "|035fe66c-70ac-4f0...|      My Regret|     10.0|\n",
      "|045f959f-8df5-40d...|     REMIX WOLF|      1.0|\n",
      "|046ae3fe-a44d-448...|      Dreamtage|      4.0|\n",
      "|04a29ddf-df6a-40d...|      Ensecures|      5.0|\n",
      "|04a29ddf-df6a-40d...| Seven6TwoX5One|      5.0|\n",
      "|04a29ddf-df6a-40d...|        YohYeah|      2.0|\n",
      "|04d7a744-4142-402...| landenNYgiants|      6.0|\n",
      "|0558b50c-8ee5-441...|      Amplafied|     23.0|\n",
      "|0558b50c-8ee5-441...|     SuperDariu|     22.0|\n",
      "|06001707-96f2-439...|         JoeTRB|      6.0|\n",
      "+--------------------+---------------+---------+\n",
      "only showing top 20 rows\n",
      "\n",
      "common_playlist count: [Row(playlist_id='f72e0ef0-7c4a-4307-af78-8e38dac3fdba', count=202489)]\n",
      "most_played_map count: [Row(mapid='c7edbf0f-f206-11e4-aa52-24be05e24f7e', count=186118)]\n",
      "Killing spree count: [Row(mapid='c7edbf0f-f206-11e4-aa52-24be05e24f7e', count=6734)]\n"
     ]
    }
   ],
   "source": [
    "# Aggregating data\n",
    "\n",
    "\n",
    "agg_kills = bucketed_data.groupBy(\"match_id\",\"player_gamertag\").agg({\"player_total_kills\": \"avg\"}).withColumnRenamed(\"avg(player_total_kills)\", \"avg_kills\")\n",
    "agg_kills.show()\n",
    "\n",
    "\n",
    "common_playlist = bucketed_data.groupBy(\"playlist_id\").count().orderBy('count',ascending = False).take(1)\n",
    "\n",
    "print(f\"common_playlist count: {common_playlist}\")\n",
    "\n",
    "most_played_map = bucketed_data.groupBy(\"mapid\").count().orderBy('count',ascending = False).take(1)\n",
    "\n",
    "print(f\"most_played_map count: {most_played_map}\")\n",
    "\n",
    "bucketed_data2= bucketed_data.join(broadcast(medals), 'medal_id')\n",
    "killing_spree = bucketed_data2.filter(bucketed_data2.classification == \"KillingSpree\").groupBy(\"mapid\").count().orderBy('count',ascending = False).take(1)\n",
    "print(f\"Killing spree count: {killing_spree}\")\n",
    "#killing_spree.show()\n",
    "\n",
    "\n"
   ]
  },
  {
   "cell_type": "code",
   "execution_count": null,
   "id": "eaeb00a5-e66d-450e-9d67-12ffc232e017",
   "metadata": {},
   "outputs": [],
   "source": []
  },
  {
   "cell_type": "code",
   "execution_count": 65,
   "id": "2c1254bc-9ecf-4c86-bfd9-de81ecfbb78b",
   "metadata": {},
   "outputs": [
    {
     "name": "stderr",
     "output_type": "stream",
     "text": [
      "                                                                                \r"
     ]
    }
   ],
   "source": [
    "\n",
    "start_df = bucketed_data.repartition(4, \"match_id\")\n",
    "    \n",
    "\n",
    "first_sort_df = start_df.sortWithinPartitions(\"match_id\")\n",
    "\n",
    "sorted = bucketed_data.repartition(10, \"match_id\") \\\n",
    "        .sortWithinPartitions(\"match_id\") \\\n",
    "# Create a temporary view of your DataFrame\n",
    "\n",
    "start_df.write.mode(\"overwrite\").saveAsTable(\" bootcamp.matches_bucketed\")\n",
    "first_sort_df.write.mode(\"overwrite\").saveAsTable(\"events_unsorted\")"
   ]
  },
  {
   "cell_type": "code",
   "execution_count": 67,
   "id": "d207a11b-b0a4-4662-bbe9-747d8f67be7d",
   "metadata": {},
   "outputs": [
    {
     "data": {
      "text/html": [
       "<table>\n",
       "    <thead>\n",
       "        <tr>\n",
       "            <th>size</th>\n",
       "            <th>num_files</th>\n",
       "            <th>sorted</th>\n",
       "        </tr>\n",
       "    </thead>\n",
       "    <tbody>\n",
       "        <tr>\n",
       "            <td>17775416</td>\n",
       "            <td>4</td>\n",
       "            <td>sorted</td>\n",
       "        </tr>\n",
       "        <tr>\n",
       "            <td>17775416</td>\n",
       "            <td>4</td>\n",
       "            <td>unsorted</td>\n",
       "        </tr>\n",
       "    </tbody>\n",
       "</table>"
      ],
      "text/plain": [
       "+----------+-----------+----------+\n",
       "|     size | num_files |   sorted |\n",
       "+----------+-----------+----------+\n",
       "| 17775416 |         4 |   sorted |\n",
       "| 17775416 |         4 | unsorted |\n",
       "+----------+-----------+----------+"
      ]
     },
     "execution_count": 67,
     "metadata": {},
     "output_type": "execute_result"
    }
   ],
   "source": [
    "%%sql\n",
    "\n",
    "SELECT SUM(file_size_in_bytes) as size, COUNT(1) as num_files, 'sorted' \n",
    "FROM bootcamp.matches_bucketed.files\n",
    "\n",
    "UNION ALL\n",
    "SELECT SUM(file_size_in_bytes) as size, COUNT(1) as num_files, 'unsorted' \n",
    "FROM bootcamp.matches_bucketed.files\n",
    "\n",
    "\n",
    "\n"
   ]
  },
  {
   "cell_type": "code",
   "execution_count": 68,
   "id": "a93db4d6-ac15-4d0e-83da-77b93ad618da",
   "metadata": {},
   "outputs": [
    {
     "data": {
      "text/html": [
       "<table>\n",
       "    <thead>\n",
       "        <tr>\n",
       "            <th>size</th>\n",
       "            <th>num_files</th>\n",
       "        </tr>\n",
       "    </thead>\n",
       "    <tbody>\n",
       "        <tr>\n",
       "            <td>17775416</td>\n",
       "            <td>4</td>\n",
       "        </tr>\n",
       "    </tbody>\n",
       "</table>"
      ],
      "text/plain": [
       "+----------+-----------+\n",
       "|     size | num_files |\n",
       "+----------+-----------+\n",
       "| 17775416 |         4 |\n",
       "+----------+-----------+"
      ]
     },
     "execution_count": 68,
     "metadata": {},
     "output_type": "execute_result"
    }
   ],
   "source": [
    "%%sql\n",
    "SELECT SUM(file_size_in_bytes) as size, COUNT(1) as num_files FROM bootcamp.matches_bucketed.files;"
   ]
  },
  {
   "cell_type": "code",
<<<<<<< HEAD
   "execution_count": 69,
   "id": "40cee5fd",
=======
   "execution_count": null,
>>>>>>> cf83b60123e639bc6977182a9947927dfffbf419
   "metadata": {
    "collapsed": false,
    "jupyter": {
     "outputs_hidden": false
    },
    "pycharm": {
     "name": "#%%\n"
    }
   },
<<<<<<< HEAD
=======
   "outputs": [],
   "source": [
    "%%sql \n",
    "SELECT COUNT(1) FROM bootcamp.matches_bucketed.files"
   ]
  },
  {
   "cell_type": "code",
   "execution_count": 4,
   "id": "674f173d-86ca-4637-9332-37ce04a81451",
   "metadata": {},
>>>>>>> cf83b60123e639bc6977182a9947927dfffbf419
   "outputs": [
    {
     "data": {
      "text/html": [
       "<table>\n",
       "    <thead>\n",
       "        <tr>\n",
       "            <th>count(1)</th>\n",
       "        </tr>\n",
       "    </thead>\n",
       "    <tbody>\n",
       "        <tr>\n",
       "            <td>4</td>\n",
       "        </tr>\n",
       "    </tbody>\n",
       "</table>"
      ],
      "text/plain": [
       "+----------+\n",
       "| count(1) |\n",
       "+----------+\n",
       "|        4 |\n",
       "+----------+"
      ]
     },
     "execution_count": 69,
     "metadata": {},
     "output_type": "execute_result"
    }
   ],
   "source": [
    "%%sql \n",
    "SELECT COUNT(1) FROM bootcamp.matches_bucketed.files"
   ]
  },
  {
   "cell_type": "code",
   "execution_count": null,
   "id": "674f173d-86ca-4637-9332-37ce04a81451",
   "metadata": {},
   "outputs": [],
   "source": []
  },
  {
   "cell_type": "code",
   "execution_count": null,
   "id": "591ba0b7-2e6f-420a-960d-95e5734b0166",
   "metadata": {},
   "outputs": [],
   "source": []
  }
 ],
 "metadata": {
  "kernelspec": {
   "display_name": "Python 3 (ipykernel)",
   "language": "python",
   "name": "python3"
  },
  "language_info": {
   "codemirror_mode": {
    "name": "ipython",
    "version": 3
   },
   "file_extension": ".py",
   "mimetype": "text/x-python",
   "name": "python",
   "nbconvert_exporter": "python",
   "pygments_lexer": "ipython3",
   "version": "3.9.18"
  }
 },
 "nbformat": 4,
 "nbformat_minor": 5
}
