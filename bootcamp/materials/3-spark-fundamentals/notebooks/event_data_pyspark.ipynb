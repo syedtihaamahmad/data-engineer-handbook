{
 "cells": [
  {
   "cell_type": "code",
   "execution_count": null,
   "id": "0bdf9126-8708-448b-9928-8eaf0619ec37",
   "metadata": {},
   "outputs": [],
   "source": [
    "from pyspark.sql import SparkSession\n",
    "from pyspark.sql.functions import expr, col\n",
    "spark = SparkSession.builder.appName(\"Jupyter\").getOrCreate()\n",
    "\n",
    "spark\n",
    "# Disable automatic broadcast joins\n",
    "spark.conf.set(\"spark.sql.autoBroadcastJoinThreshold\", \"-1\")\n",
    "\n",
    "\n",
    "match_details = spark.read.csv(\"/home/iceberg/data/match_details.csv\", header=True, inferSchema=True)\n",
    "matches = spark.read.csv(\"/home/iceberg/data/matches.csv\", header=True, inferSchema=True)\n",
    "medals_matches_players = spark.read.csv(\"/home/iceberg/data/medals_matches_players.csv\", header=True, inferSchema=True)\n",
    "medals = spark.read.csv(\"/home/iceberg/data/medals.csv\", header=True, inferSchema=True)\n",
    "maps = spark.read.csv(\"/home/iceberg/data/maps.csv\", header=True, inferSchema=True)\n",
    "\n",
    "maps.show()"
   ]
  },
  {
   "cell_type": "code",
   "execution_count": 45,
   "id": "58867b4f-1ecb-4ed2-ace3-81d3182bce63",
   "metadata": {},
   "outputs": [
    {
     "name": "stdout",
     "output_type": "stream",
     "text": [
      "+--------------------+--------------------+------------+--------------------+--------------------+-------------+-------------------+--------------+---------+--------------------+--------------+--------------------+\n",
      "|               mapid|            match_id|is_team_game|         playlist_id|     game_variant_id|is_match_over|    completion_date|match_duration|game_mode|      map_variant_id|          name|         description|\n",
      "+--------------------+--------------------+------------+--------------------+--------------------+-------------+-------------------+--------------+---------+--------------------+--------------+--------------------+\n",
      "|c7edbf0f-f206-11e...|11de1a94-8d07-416...|        true|f72e0ef0-7c4a-430...|1e473914-46e4-408...|         true|2016-02-22 00:00:00|          NULL|     NULL|                NULL|Breakout Arena|The broadcast of ...|\n",
      "|cb914b9e-f206-11e...|d3643e71-3e51-43e...|       false|d0766624-dbd7-453...|257a305e-4dd3-41f...|         true|2016-02-14 00:00:00|          NULL|     NULL|                NULL|       The Rig|Humanity’s raveno...|\n",
      "|c7edbf0f-f206-11e...|d78d2aae-36e4-48a...|        true|f72e0ef0-7c4a-430...|1e473914-46e4-408...|         true|2016-03-24 00:00:00|          NULL|     NULL|55e5ee2e-88df-465...|Breakout Arena|The broadcast of ...|\n",
      "|c7edbf0f-f206-11e...|b440069e-ec5f-4f5...|        true|f72e0ef0-7c4a-430...|1e473914-46e4-408...|         true|2015-12-23 00:00:00|          NULL|     NULL|ec3eef73-13e3-4d4...|Breakout Arena|The broadcast of ...|\n",
      "|c93d708f-f206-11e...|1dd475fc-ee6b-4e1...|        true|0e39ead4-383b-445...|42f97cca-2cb4-497...|         true|2016-04-07 00:00:00|          NULL|     NULL|                NULL|         Urban|Andesia was the c...|\n",
      "|cbcea2c0-f206-11e...|848f02ad-72ef-479...|        true|2323b76a-db98-4e0...|257a305e-4dd3-41f...|         true|2016-03-17 00:00:00|          NULL|     NULL|                NULL|      Riptide |The waters of thi...|\n",
      "|cc74f4e1-f206-11e...|e207adc1-4d7a-43a...|        true|2323b76a-db98-4e0...|257a305e-4dd3-41f...|         true|2016-04-05 00:00:00|          NULL|     NULL|                NULL|          NULL|                NULL|\n",
      "|ca737f8f-f206-11e...|1fb5c2ec-ca60-434...|        true|bc0f8ad6-31e6-4a1...|257a305e-4dd3-41f...|         true|2015-12-16 00:00:00|          NULL|     NULL|                NULL|    Overgrowth|Nature has reclai...|\n",
      "|cbcea2c0-f206-11e...|54f1cbd2-2be6-4d5...|        NULL|892189e9-d712-4bd...|257a305e-4dd3-41f...|         NULL|2016-02-04 00:00:00|          NULL|     NULL|7108c409-6d1e-41d...|      Riptide |The waters of thi...|\n",
      "|c74c9d0f-f206-11e...|9e079488-1355-4c6...|        true|0bcf2be1-3168-4e4...|b45854a7-e6e1-4a9...|         true|2015-11-22 00:00:00|          NULL|     NULL|1c632c30-3994-444...|        Alpine|These vistas are ...|\n",
      "|cbcea2c0-f206-11e...|e17af58c-ee3d-4a7...|        NULL|2323b76a-db98-4e0...|257a305e-4dd3-41f...|         NULL|2016-02-04 00:00:00|          NULL|     NULL|7108c409-6d1e-41d...|      Riptide |The waters of thi...|\n",
      "|ca737f8f-f206-11e...|22027c64-d45a-48a...|        NULL|d0766624-dbd7-453...|257a305e-4dd3-41f...|         NULL|2016-02-04 00:00:00|          NULL|     NULL|1ebdebca-e1f8-48f...|    Overgrowth|Nature has reclai...|\n",
      "|c7805740-f206-11e...|8483565b-14d1-460...|        NULL|f72e0ef0-7c4a-430...|1e473914-46e4-408...|         NULL|2016-02-04 00:00:00|          NULL|     NULL|b5f6104e-3a99-438...|       Glacier|Each of Halo's mi...|\n",
      "|c7edbf0f-f206-11e...|bc8f0d7a-cf4b-4a2...|        NULL|f72e0ef0-7c4a-430...|1e473914-46e4-408...|         NULL|2016-02-04 00:00:00|          NULL|     NULL|7248ebbd-cd40-456...|Breakout Arena|The broadcast of ...|\n",
      "|cdb934b0-f206-11e...|f60f9d91-42c9-4a0...|        NULL|f72e0ef0-7c4a-430...|1e473914-46e4-408...|         NULL|2016-02-04 00:00:00|          NULL|     NULL|                NULL|        Empire|Military-industri...|\n",
      "|c7edbf0f-f206-11e...|ad4a5b9d-7127-404...|        true|f72e0ef0-7c4a-430...|1e473914-46e4-408...|         true|2016-02-13 00:00:00|          NULL|     NULL|d591e5ba-a0db-4bf...|Breakout Arena|The broadcast of ...|\n",
      "|ce1dc2de-f206-11e...|f44c9997-eb6f-4d6...|        true|0504ca3c-de41-48f...|b0df8938-0fb6-42e...|         true|2016-02-28 00:00:00|          NULL|     NULL|d5a6277a-96d5-499...|         Truth|                NULL|\n",
      "|cdb934b0-f206-11e...|5d8c7557-5347-451...|        NULL|d0766624-dbd7-453...|257a305e-4dd3-41f...|         NULL|2016-02-04 00:00:00|          NULL|     NULL|                NULL|        Empire|Military-industri...|\n",
      "|cdb934b0-f206-11e...|89b24a08-8588-464...|        NULL|d0766624-dbd7-453...|257a305e-4dd3-41f...|         NULL|2016-02-04 00:00:00|          NULL|     NULL|                NULL|        Empire|Military-industri...|\n",
      "|cdb934b0-f206-11e...|01805fa5-bd7c-462...|        NULL|f72e0ef0-7c4a-430...|1e473914-46e4-408...|         NULL|2016-02-04 00:00:00|          NULL|     NULL|                NULL|        Empire|Military-industri...|\n",
      "+--------------------+--------------------+------------+--------------------+--------------------+-------------+-------------------+--------------+---------+--------------------+--------------+--------------------+\n",
      "only showing top 20 rows\n",
      "\n",
      "+--------------------+--------------------+------------+--------------------+--------------------+-------------+-------------------+--------------+---------+--------------------+--------------+--------------------+\n",
      "|               mapid|            match_id|is_team_game|         playlist_id|     game_variant_id|is_match_over|    completion_date|match_duration|game_mode|      map_variant_id|          name|         description|\n",
      "+--------------------+--------------------+------------+--------------------+--------------------+-------------+-------------------+--------------+---------+--------------------+--------------+--------------------+\n",
      "|c7edbf0f-f206-11e...|11de1a94-8d07-416...|        true|f72e0ef0-7c4a-430...|1e473914-46e4-408...|         true|2016-02-22 00:00:00|          NULL|     NULL|                NULL|Breakout Arena|The broadcast of ...|\n",
      "|cb914b9e-f206-11e...|d3643e71-3e51-43e...|       false|d0766624-dbd7-453...|257a305e-4dd3-41f...|         true|2016-02-14 00:00:00|          NULL|     NULL|                NULL|       The Rig|Humanity’s raveno...|\n",
      "|c7edbf0f-f206-11e...|d78d2aae-36e4-48a...|        true|f72e0ef0-7c4a-430...|1e473914-46e4-408...|         true|2016-03-24 00:00:00|          NULL|     NULL|55e5ee2e-88df-465...|Breakout Arena|The broadcast of ...|\n",
      "|c7edbf0f-f206-11e...|b440069e-ec5f-4f5...|        true|f72e0ef0-7c4a-430...|1e473914-46e4-408...|         true|2015-12-23 00:00:00|          NULL|     NULL|ec3eef73-13e3-4d4...|Breakout Arena|The broadcast of ...|\n",
      "|c93d708f-f206-11e...|1dd475fc-ee6b-4e1...|        true|0e39ead4-383b-445...|42f97cca-2cb4-497...|         true|2016-04-07 00:00:00|          NULL|     NULL|                NULL|         Urban|Andesia was the c...|\n",
      "|cbcea2c0-f206-11e...|848f02ad-72ef-479...|        true|2323b76a-db98-4e0...|257a305e-4dd3-41f...|         true|2016-03-17 00:00:00|          NULL|     NULL|                NULL|      Riptide |The waters of thi...|\n",
      "|cc74f4e1-f206-11e...|e207adc1-4d7a-43a...|        true|2323b76a-db98-4e0...|257a305e-4dd3-41f...|         true|2016-04-05 00:00:00|          NULL|     NULL|                NULL|          NULL|                NULL|\n",
      "|ca737f8f-f206-11e...|1fb5c2ec-ca60-434...|        true|bc0f8ad6-31e6-4a1...|257a305e-4dd3-41f...|         true|2015-12-16 00:00:00|          NULL|     NULL|                NULL|    Overgrowth|Nature has reclai...|\n",
      "|cbcea2c0-f206-11e...|54f1cbd2-2be6-4d5...|        NULL|892189e9-d712-4bd...|257a305e-4dd3-41f...|         NULL|2016-02-04 00:00:00|          NULL|     NULL|7108c409-6d1e-41d...|      Riptide |The waters of thi...|\n",
      "|c74c9d0f-f206-11e...|9e079488-1355-4c6...|        true|0bcf2be1-3168-4e4...|b45854a7-e6e1-4a9...|         true|2015-11-22 00:00:00|          NULL|     NULL|1c632c30-3994-444...|        Alpine|These vistas are ...|\n",
      "|cbcea2c0-f206-11e...|e17af58c-ee3d-4a7...|        NULL|2323b76a-db98-4e0...|257a305e-4dd3-41f...|         NULL|2016-02-04 00:00:00|          NULL|     NULL|7108c409-6d1e-41d...|      Riptide |The waters of thi...|\n",
      "|ca737f8f-f206-11e...|22027c64-d45a-48a...|        NULL|d0766624-dbd7-453...|257a305e-4dd3-41f...|         NULL|2016-02-04 00:00:00|          NULL|     NULL|1ebdebca-e1f8-48f...|    Overgrowth|Nature has reclai...|\n",
      "|c7805740-f206-11e...|8483565b-14d1-460...|        NULL|f72e0ef0-7c4a-430...|1e473914-46e4-408...|         NULL|2016-02-04 00:00:00|          NULL|     NULL|b5f6104e-3a99-438...|       Glacier|Each of Halo's mi...|\n",
      "|c7edbf0f-f206-11e...|bc8f0d7a-cf4b-4a2...|        NULL|f72e0ef0-7c4a-430...|1e473914-46e4-408...|         NULL|2016-02-04 00:00:00|          NULL|     NULL|7248ebbd-cd40-456...|Breakout Arena|The broadcast of ...|\n",
      "|cdb934b0-f206-11e...|f60f9d91-42c9-4a0...|        NULL|f72e0ef0-7c4a-430...|1e473914-46e4-408...|         NULL|2016-02-04 00:00:00|          NULL|     NULL|                NULL|        Empire|Military-industri...|\n",
      "|c7edbf0f-f206-11e...|ad4a5b9d-7127-404...|        true|f72e0ef0-7c4a-430...|1e473914-46e4-408...|         true|2016-02-13 00:00:00|          NULL|     NULL|d591e5ba-a0db-4bf...|Breakout Arena|The broadcast of ...|\n",
      "|ce1dc2de-f206-11e...|f44c9997-eb6f-4d6...|        true|0504ca3c-de41-48f...|b0df8938-0fb6-42e...|         true|2016-02-28 00:00:00|          NULL|     NULL|d5a6277a-96d5-499...|         Truth|                NULL|\n",
      "|cdb934b0-f206-11e...|5d8c7557-5347-451...|        NULL|d0766624-dbd7-453...|257a305e-4dd3-41f...|         NULL|2016-02-04 00:00:00|          NULL|     NULL|                NULL|        Empire|Military-industri...|\n",
      "|cdb934b0-f206-11e...|89b24a08-8588-464...|        NULL|d0766624-dbd7-453...|257a305e-4dd3-41f...|         NULL|2016-02-04 00:00:00|          NULL|     NULL|                NULL|        Empire|Military-industri...|\n",
      "|cdb934b0-f206-11e...|01805fa5-bd7c-462...|        NULL|f72e0ef0-7c4a-430...|1e473914-46e4-408...|         NULL|2016-02-04 00:00:00|          NULL|     NULL|                NULL|        Empire|Military-industri...|\n",
      "+--------------------+--------------------+------------+--------------------+--------------------+-------------+-------------------+--------------+---------+--------------------+--------------+--------------------+\n",
      "only showing top 20 rows\n",
      "\n"
     ]
    }
   ],
   "source": [
    "from pyspark.sql.functions import broadcast\n",
    "\n",
    "# Broadcast join\n",
    "\n",
    "matches_maps_df = matches.join(broadcast(maps),\"mapid\")\n",
    "\n",
    "matches_maps_df.show()\n",
    "\n",
    "medals_matches_players_df = medals_matches_players.join(broadcast(medals),\"medal_id\")\n",
    "\n",
    "matches_maps_df.show()"
   ]
  },
  {
   "cell_type": "code",
   "execution_count": 46,
   "id": "33e4dce2-cba1-4bd7-808a-4cec76e45003",
   "metadata": {},
   "outputs": [],
   "source": [
    "# Bucketed join on match_id (16 buckets)\n",
    "match_details.createOrReplaceTempView(\"match_details\")\n",
    "matches.createOrReplaceTempView(\"matches\")\n",
    "medals_matches_players.createOrReplaceTempView(\"medals_matches_players\")\n",
    "\n",
    "# Renaming columns in match_details to avoid ambiguity\n",
    "#match_details_renamed = match_details.withColumnRenamed(\"player_total_kills\", \"match_details_player_total_kills\")\n",
    "\n",
    "# Renaming columns in medals_matches_players to avoid ambiguity\n",
    "#medals_matches_players_renamed = medals_matches_players.withColumnRenamed(\"player_total_kills\", \"medals_matches_player_total_kills\")\n",
    "\n",
    "# Now perform the join with the renamed columns\n",
    "bucketed_data = match_details.join(matches, [\"match_id\"], \"inner\") \\\n",
    "                                     .join(medals_matches_players, [\"match_id\",\"player_gamertag\"], \"inner\") \\\n",
    "                                     .repartition(16, \"match_id\")\n"
   ]
  },
  {
   "cell_type": "code",
   "execution_count": 47,
   "id": "a50a6e68-e080-48fd-8f72-fb7eb7c3aba5",
   "metadata": {},
   "outputs": [
    {
     "name": "stdout",
     "output_type": "stream",
     "text": [
      "['match_id', 'player_gamertag', 'previous_spartan_rank', 'spartan_rank', 'previous_total_xp', 'total_xp', 'previous_csr_tier', 'previous_csr_designation', 'previous_csr', 'previous_csr_percent_to_next_tier', 'previous_csr_rank', 'current_csr_tier', 'current_csr_designation', 'current_csr', 'current_csr_percent_to_next_tier', 'current_csr_rank', 'player_rank_on_team', 'player_finished', 'player_average_life', 'player_total_kills', 'player_total_headshots', 'player_total_weapon_damage', 'player_total_shots_landed', 'player_total_melee_kills', 'player_total_melee_damage', 'player_total_assassinations', 'player_total_ground_pound_kills', 'player_total_shoulder_bash_kills', 'player_total_grenade_damage', 'player_total_power_weapon_damage', 'player_total_power_weapon_grabs', 'player_total_deaths', 'player_total_assists', 'player_total_grenade_kills', 'did_win', 'team_id', 'mapid', 'is_team_game', 'playlist_id', 'game_variant_id', 'is_match_over', 'completion_date', 'match_duration', 'game_mode', 'map_variant_id', 'medal_id', 'count']\n"
     ]
    }
   ],
   "source": [
    "\n",
    "print(bucketed_data.columns)"
   ]
  },
  {
   "cell_type": "code",
   "execution_count": 52,
   "id": "5083fece-a0bf-486d-bd67-8d580a25ae8f",
   "metadata": {},
   "outputs": [
    {
     "name": "stdout",
     "output_type": "stream",
     "text": [
      "+--------------------+---------------+---------+\n",
      "|            match_id|player_gamertag|avg_kills|\n",
      "+--------------------+---------------+---------+\n",
      "|00114a87-5696-421...|      Amplafied|     14.0|\n",
      "|002d6369-161c-4ec...|       Attack3d|      5.0|\n",
      "|002d6369-161c-4ec...|lX R3CLAIM3R Xl|      8.0|\n",
      "|00fa6004-d709-410...|   HuNTy x BEaR|     12.0|\n",
      "|01b59954-e15c-445...|  Chuck Chill33|      1.0|\n",
      "|01b59954-e15c-445...|globalgoon78901|      1.0|\n",
      "|023907c7-bf2f-4c5...|        Silhana|      9.0|\n",
      "|028a0d83-c936-41f...|    ILLICIT 117|     12.0|\n",
      "|02d4d2c8-7bce-46a...|     NWG StrAfe|     27.0|\n",
      "|035f360e-989b-4ce...|   SpicyWings88|     14.0|\n",
      "|035fe66c-70ac-4f0...|      My Regret|     10.0|\n",
      "|045f959f-8df5-40d...|     REMIX WOLF|      1.0|\n",
      "|046ae3fe-a44d-448...|      Dreamtage|      4.0|\n",
      "|04a29ddf-df6a-40d...|      Ensecures|      5.0|\n",
      "|04a29ddf-df6a-40d...| Seven6TwoX5One|      5.0|\n",
      "|04a29ddf-df6a-40d...|        YohYeah|      2.0|\n",
      "|04d7a744-4142-402...| landenNYgiants|      6.0|\n",
      "|0558b50c-8ee5-441...|      Amplafied|     23.0|\n",
      "|0558b50c-8ee5-441...|     SuperDariu|     22.0|\n",
      "|06001707-96f2-439...|         JoeTRB|      6.0|\n",
      "+--------------------+---------------+---------+\n",
      "only showing top 20 rows\n",
      "\n",
      "common_playlist count: [Row(playlist_id='f72e0ef0-7c4a-4307-af78-8e38dac3fdba', count=202489)]\n",
      "most_played_map count: [Row(mapid='c7edbf0f-f206-11e4-aa52-24be05e24f7e', count=186118)]\n",
      "Killing spree count: [Row(mapid='c7edbf0f-f206-11e4-aa52-24be05e24f7e', count=6734)]\n"
     ]
    }
   ],
   "source": [
    "# Aggregating data\n",
    "\n",
    "\n",
    "agg_kills = bucketed_data.groupBy(\"match_id\",\"player_gamertag\").agg({\"player_total_kills\": \"avg\"}).withColumnRenamed(\"avg(player_total_kills)\", \"avg_kills\")\n",
    "agg_kills.show()\n",
    "\n",
    "\n",
    "common_playlist = bucketed_data.groupBy(\"playlist_id\").count().orderBy('count',ascending = False).take(1)\n",
    "\n",
    "print(f\"common_playlist count: {common_playlist}\")\n",
    "\n",
    "most_played_map = bucketed_data.groupBy(\"mapid\").count().orderBy('count',ascending = False).take(1)\n",
    "\n",
    "print(f\"most_played_map count: {most_played_map}\")\n",
    "\n",
    "bucketed_data2= bucketed_data.join(broadcast(medals), 'medal_id')\n",
    "killing_spree = bucketed_data2.filter(bucketed_data2.classification == \"KillingSpree\").groupBy(\"mapid\").count().orderBy('count',ascending = False).take(1)\n",
    "print(f\"Killing spree count: {killing_spree}\")\n",
    "#killing_spree.show()\n",
    "\n",
    "\n"
   ]
  },
  {
   "cell_type": "code",
   "execution_count": null,
   "id": "eaeb00a5-e66d-450e-9d67-12ffc232e017",
   "metadata": {},
   "outputs": [],
   "source": []
  },
  {
   "cell_type": "code",
   "execution_count": 65,
   "id": "2c1254bc-9ecf-4c86-bfd9-de81ecfbb78b",
   "metadata": {},
   "outputs": [
    {
     "name": "stderr",
     "output_type": "stream",
     "text": [
      "                                                                                \r"
     ]
    }
   ],
   "source": [
    "\n",
    "start_df = bucketed_data.repartition(4, \"match_id\")\n",
    "    \n",
    "\n",
    "first_sort_df = start_df.sortWithinPartitions(\"match_id\")\n",
    "\n",
    "sorted = bucketed_data.repartition(10, \"match_id\") \\\n",
    "        .sortWithinPartitions(\"match_id\") \\\n",
    "# Create a temporary view of your DataFrame\n",
    "\n",
    "start_df.write.mode(\"overwrite\").saveAsTable(\" bootcamp.matches_bucketed\")\n",
    "first_sort_df.write.mode(\"overwrite\").saveAsTable(\"events_unsorted\")"
   ]
  },
  {
   "cell_type": "code",
   "execution_count": 67,
   "id": "d207a11b-b0a4-4662-bbe9-747d8f67be7d",
   "metadata": {},
   "outputs": [
    {
     "data": {
      "text/html": [
       "<table>\n",
       "    <thead>\n",
       "        <tr>\n",
       "            <th>size</th>\n",
       "            <th>num_files</th>\n",
       "            <th>sorted</th>\n",
       "        </tr>\n",
       "    </thead>\n",
       "    <tbody>\n",
       "        <tr>\n",
       "            <td>17775416</td>\n",
       "            <td>4</td>\n",
       "            <td>sorted</td>\n",
       "        </tr>\n",
       "        <tr>\n",
       "            <td>17775416</td>\n",
       "            <td>4</td>\n",
       "            <td>unsorted</td>\n",
       "        </tr>\n",
       "    </tbody>\n",
       "</table>"
      ],
      "text/plain": [
       "+----------+-----------+----------+\n",
       "|     size | num_files |   sorted |\n",
       "+----------+-----------+----------+\n",
       "| 17775416 |         4 |   sorted |\n",
       "| 17775416 |         4 | unsorted |\n",
       "+----------+-----------+----------+"
      ]
     },
     "execution_count": 67,
     "metadata": {},
     "output_type": "execute_result"
    }
   ],
   "source": [
    "%%sql\n",
    "\n",
    "SELECT SUM(file_size_in_bytes) as size, COUNT(1) as num_files, 'sorted' \n",
    "FROM bootcamp.matches_bucketed.files\n",
    "\n",
    "UNION ALL\n",
    "SELECT SUM(file_size_in_bytes) as size, COUNT(1) as num_files, 'unsorted' \n",
    "FROM bootcamp.matches_bucketed.files\n",
    "\n",
    "\n",
    "\n"
   ]
  },
  {
   "cell_type": "code",
   "execution_count": 68,
   "id": "a93db4d6-ac15-4d0e-83da-77b93ad618da",
   "metadata": {},
   "outputs": [
    {
     "data": {
      "text/html": [
       "<table>\n",
       "    <thead>\n",
       "        <tr>\n",
       "            <th>size</th>\n",
       "            <th>num_files</th>\n",
       "        </tr>\n",
       "    </thead>\n",
       "    <tbody>\n",
       "        <tr>\n",
       "            <td>17775416</td>\n",
       "            <td>4</td>\n",
       "        </tr>\n",
       "    </tbody>\n",
       "</table>"
      ],
      "text/plain": [
       "+----------+-----------+\n",
       "|     size | num_files |\n",
       "+----------+-----------+\n",
       "| 17775416 |         4 |\n",
       "+----------+-----------+"
      ]
     },
     "execution_count": 68,
     "metadata": {},
     "output_type": "execute_result"
    }
   ],
   "source": [
    "%%sql\n",
    "SELECT SUM(file_size_in_bytes) as size, COUNT(1) as num_files FROM bootcamp.matches_bucketed.files;"
   ]
  },
  {
   "cell_type": "code",
   "execution_count": 69,
   "id": "40cee5fd",
   "metadata": {
    "collapsed": false,
    "jupyter": {
     "outputs_hidden": false
    },
    "pycharm": {
     "name": "#%%\n"
    }
   },
   "outputs": [
    {
     "data": {
      "text/html": [
       "<table>\n",
       "    <thead>\n",
       "        <tr>\n",
       "            <th>count(1)</th>\n",
       "        </tr>\n",
       "    </thead>\n",
       "    <tbody>\n",
       "        <tr>\n",
       "            <td>4</td>\n",
       "        </tr>\n",
       "    </tbody>\n",
       "</table>"
      ],
      "text/plain": [
       "+----------+\n",
       "| count(1) |\n",
       "+----------+\n",
       "|        4 |\n",
       "+----------+"
      ]
     },
     "execution_count": 69,
     "metadata": {},
     "output_type": "execute_result"
    }
   ],
   "source": [
    "%%sql \n",
    "SELECT COUNT(1) FROM bootcamp.matches_bucketed.files"
   ]
  },
  {
   "cell_type": "code",
   "execution_count": null,
   "id": "674f173d-86ca-4637-9332-37ce04a81451",
   "metadata": {},
   "outputs": [],
   "source": []
  },
  {
   "cell_type": "code",
   "execution_count": null,
   "id": "591ba0b7-2e6f-420a-960d-95e5734b0166",
   "metadata": {},
   "outputs": [],
   "source": []
  }
 ],
 "metadata": {
  "kernelspec": {
   "display_name": "Python 3 (ipykernel)",
   "language": "python",
   "name": "python3"
  },
  "language_info": {
   "codemirror_mode": {
    "name": "ipython",
    "version": 3
   },
   "file_extension": ".py",
   "mimetype": "text/x-python",
   "name": "python",
   "nbconvert_exporter": "python",
   "pygments_lexer": "ipython3",
   "version": "3.9.18"
  }
 },
 "nbformat": 4,
 "nbformat_minor": 5
}
